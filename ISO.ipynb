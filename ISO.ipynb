{
 "cells": [
  {
   "cell_type": "code",
   "execution_count": 2,
   "metadata": {},
   "outputs": [],
   "source": [
    "%load_ext autoreload"
   ]
  },
  {
   "cell_type": "code",
   "execution_count": 102,
   "metadata": {},
   "outputs": [],
   "source": [
    "%autoreload 2\n",
    "import pandas as pd\n",
    "from os import path\n",
    "import glob\n",
    "import warnings\n",
    "from scrapers.scrapepool import ScrapePool\n",
    "from scrapers.iso import ISOScraper\n",
    "import linecache\n",
    "import csv\n",
    "from beakerx import *\n",
    "\n",
    "# disable warnings, because pandas throws warnings for mixed type columns all the time..\n",
    "warnings.filterwarnings('ignore')"
   ]
  },
  {
   "cell_type": "code",
   "execution_count": 103,
   "metadata": {},
   "outputs": [],
   "source": [
    "# scraper settings\n",
    "args = {\n",
    "    'phantomjs_exec': 'C:\\\\phantomjs.exe',\n",
    "    'urls': {\n",
    "        'home': 'https://www.iso.org/obp/ui/#home',\n",
    "        'search': 'https://www.iso.org/obp/ui/#search',\n",
    "        'save_to': \"data\\\\iso\\\\scraped\\\\\"\n",
    "    }\n",
    "}"
   ]
  },
  {
   "cell_type": "code",
   "execution_count": 104,
   "metadata": {
    "scrolled": true
   },
   "outputs": [
    {
     "name": "stderr",
     "output_type": "stream",
     "text": [
      "connection tested successfully!\n",
      "sorted results\n",
      "saved results for ISO 9233-2:2018(en)\n",
      "saved results for ISO 9233-1:2018(en)\n",
      "saved results for ISO/IEC TS 29003:2018(en)\n",
      "saved results for ISO 10139-1:2018(en)\n",
      "saved results for ISO 20902-1:2018(en)\n",
      "saved results for ISO 19979:2018(en)\n",
      "saved results for ISO 11357-6:2018(en)\n",
      "saved results for ISO 20289:2018(en)\n",
      "saved results for ISO 18473-3:2018(en)\n",
      "saved results for ISO/IEC 30136:2018(en)\n",
      "getting page 2\n",
      "saved results for ISO 9233-2:2018(en)\n",
      "saved results for ISO 10103:2018(en)\n",
      "saved results for ISO 45001:2018(en)\n",
      "saved results for ISO 7409:2018(en)\n",
      "saved results for ISO 10104:2018(en)\n",
      "saved results for ISO 22650:2018(en)\n",
      "saved results for ISO 22436:2018(en)\n",
      "saved results for ISO 11298-1:2018(en)\n",
      "saved results for ISO 20233-1:2018(en)\n",
      "saved results for ISO/IEC 19794-13:2018(en)\n",
      "getting page 3\n",
      "saved results for ISO 20873:2018(en)\n",
      "saved results for ISO 22431:2018(en)\n",
      "saved results for ISO 8124-1:2018(en)\n",
      "saved results for ISO/IEC 13818-1:2018(en)\n",
      "saved results for ISO/IEC 29121:2018(en)\n",
      "saved results for ISO/IEC/IEEE 8802-15-4:2018(en)\n",
      "saved results for ISO 18454:2018(en)\n",
      "saved results for ISO 20872:2018(en)\n",
      "saved results for ISO 2974:2018(en)\n",
      "saved results for ISO 3175-4:2018(en)\n",
      "getting page 4\n",
      "saved results for ISO 15496:2018(en)\n",
      "saved results for ISO 20863:2018(en)\n",
      "saved results for ISO/IEC 23002-4:2018(en)\n",
      "saved results for ISO/TR 3313:2018(en)\n",
      "saved results for ISO 20876:2018(en)\n",
      "saved results for ISO 20871:2018(en)\n",
      "saved results for ISO 20867:2018(en)\n",
      "saved results for ISO 18896:2018(en)\n",
      "saved results for ISO 22438:2018(en)\n",
      "saved results for ISO 19322:2018(en)\n",
      "getting page 5\n",
      "done scraping.\n"
     ]
    }
   ],
   "source": [
    "s = ScrapePool(ISOScraper, [None], args, chunk_size=300)\n",
    "results = s.run()"
   ]
  },
  {
   "cell_type": "code",
   "execution_count": null,
   "metadata": {},
   "outputs": [],
   "source": []
  }
 ],
 "metadata": {
  "hide_input": false,
  "kernelspec": {
   "display_name": "Python 3",
   "language": "python",
   "name": "python3"
  }
 },
 "nbformat": 4,
 "nbformat_minor": 2
}
