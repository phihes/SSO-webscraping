{
 "cells": [
  {
   "cell_type": "code",
   "execution_count": 1,
   "metadata": {
    "collapsed": true
   },
   "outputs": [],
   "source": [
    "%load_ext autoreload"
   ]
  },
  {
   "cell_type": "code",
   "execution_count": 2,
   "metadata": {
    "collapsed": true
   },
   "outputs": [],
   "source": [
    "%autoreload 2\n",
    "import pandas as pd\n",
    "from os import path\n",
    "import glob\n",
    "import warnings\n",
    "from scrapers.scrapepool import ScrapePool\n",
    "from scrapers.wos import WosScraper\n",
    "import linecache\n",
    "import csv\n",
    "from beakerx import *\n",
    "\n",
    "# disable warnings, because pandas throws warnings for mixed type columns all the time..\n",
    "warnings.filterwarnings('ignore')\n",
    "\n",
    "%autoreload"
   ]
  },
  {
   "cell_type": "code",
   "execution_count": 3,
   "metadata": {
    "collapsed": true
   },
   "outputs": [],
   "source": [
    "# scraper settings\n",
    "args = {\n",
    "    'phantomjs_exec': 'C:\\\\phantomjs.exe',\n",
    "    'urls': {\n",
    "        #'author_search': \"http://apps.webofknowledge.com/WOS_AuthorSearch.do?product=WOS&action=Search&search_mode=AuthorSearch&AU=\",\n",
    "        'author_search': \"http://apps.webofknowledge.com/DaisyOneClickSearchNoHistory.do?search_mode=DaisyOneClickSearchNoHistory&parentProduct=WOS&parentQid=10036&product=WOS&author_name=\",\n",
    "        'save_to': 'data\\\\wos\\\\out_feb18_2\\\\'\n",
    "    },\n",
    "    'topic': \"\",\n",
    "    'num_pubs': 5\n",
    "}"
   ]
  },
  {
   "cell_type": "code",
   "execution_count": null,
   "metadata": {
    "scrolled": true
   },
   "outputs": [],
   "source": [
    "df = pd.read_csv(\"data/wos/2017_HCR_as_of_11_16_2017_fittopublish.csv\", sep=\",\", quotechar=\"\\\"\", encoding=\"ISO-8859-1\")\n",
    "searched = set([\"_\".join(\".\".join(path.basename(f).split(\".\")[:-1]).split(\"_\")[:-1]) for f in glob.glob(path.join(args['urls']['save_to'], \"*.*\")) if path.getsize(f) > 0])\n",
    "keywords = list(set(df['NAME'].tolist())-searched)\n",
    "print(str(len(keywords)))"
   ]
  },
  {
   "cell_type": "code",
   "execution_count": null,
   "metadata": {
    "scrolled": true
   },
   "outputs": [],
   "source": [
    "s = ScrapePool(WosScraper, keywords, args, chunk_size=300)\n",
    "results = s.run()"
   ]
  },
  {
   "cell_type": "code",
   "execution_count": 6,
   "metadata": {
    "collapsed": true
   },
   "outputs": [],
   "source": [
    "merged = dict()\n",
    "for f in glob.glob(path.join(args['urls']['save_to'], \"*.*\")):\n",
    "    if path.getsize(f) > 4:\n",
    "        name= \"_\".join(\".\".join(path.basename(f).split(\".\")[:-1]).split(\"_\")[:-1])\n",
    "        merged[name] = linecache.getline(f, 2).replace(\"\\\"\",\"\").replace(\";\",\",\").rstrip()"
   ]
  },
  {
   "cell_type": "code",
   "execution_count": null,
   "metadata": {
    "collapsed": true
   },
   "outputs": [],
   "source": [
    "df = df.set_index('name')\n",
    "df"
   ]
  },
  {
   "cell_type": "code",
   "execution_count": null,
   "metadata": {},
   "outputs": [],
   "source": [
    "df2 = pd.DataFrame.from_dict(merged, orient='index')\n",
    "df2.columns = ['email']\n",
    "df2"
   ]
  },
  {
   "cell_type": "code",
   "execution_count": null,
   "metadata": {
    "collapsed": true
   },
   "outputs": [],
   "source": [
    "all_merged = pd.concat([df, df2], axis=1, join_axes=[df.index])\n",
    "all_merged"
   ]
  },
  {
   "cell_type": "code",
   "execution_count": 8,
   "metadata": {
    "collapsed": true
   },
   "outputs": [],
   "source": [
    "def get_main_email(x):\n",
    "    all_mails = [(e, e.split(\"@\")[0]) for e in x[\"email\"].split(\",\")]\n",
    "    return \",\".join([e for e, en in all_mails if x[\"lastname\"].lower() in en.lower()])"
   ]
  },
  {
   "cell_type": "code",
   "execution_count": null,
   "metadata": {},
   "outputs": [],
   "source": [
    "df2[\"name\"] = df2.index\n",
    "df2[\"lastname\"] = df2.apply(lambda x: x[\"name\"].split(\",\")[0].lower(), axis=1)\n",
    "df2[\"main_email\"] = df2.apply(get_main_email, axis=1)\n",
    "df2"
   ]
  },
  {
   "cell_type": "code",
   "execution_count": 45,
   "metadata": {
    "collapsed": true
   },
   "outputs": [],
   "source": [
    "df2.to_csv(path.join(args['urls']['save_to'], 'merged.csv'), sep=\";\", index=True, quotechar='\"', quoting=csv.QUOTE_ALL)"
   ]
  },
  {
   "cell_type": "markdown",
   "metadata": {
    "collapsed": true
   },
   "source": [
    "## sent"
   ]
  },
  {
   "cell_type": "code",
   "execution_count": 64,
   "metadata": {
    "collapsed": true
   },
   "outputs": [],
   "source": [
    "df_sent = pd.read_csv(\"data/wos/sent.csv\", sep=\",\")\n",
    "df_main_auth = pd.DataFrame([], columns=[\"email\"])"
   ]
  },
  {
   "cell_type": "code",
   "execution_count": null,
   "metadata": {
    "scrolled": true
   },
   "outputs": [],
   "source": [
    "main = [e.split(\",\")[0].lower() for e in df2[\"main_email\"].tolist()]\n",
    "name_dict = {e.split(\",\")[0].lower(): n for e, n in zip(df2[\"main_email\"].tolist(), df2[\"name\"].tolist())}\n",
    "sent = []#[e.lower() for e in df_sent[\"email\"]]\n",
    "new = set([e for e in main if e not in sent and not e==\"\"])\n",
    "pd.DataFrame({\n",
    "    \"email\": list(new),\n",
    "    \"name\": [name_dict[e] for e in list(new)]\n",
    "})"
   ]
  },
  {
   "cell_type": "code",
   "execution_count": null,
   "metadata": {},
   "outputs": [],
   "source": [
    "#co_auth = [e.split(\",\") for e in df2[\"email\"].tolist()]\n",
    "co_auth = [email.lower() for e_list in df2[\"email\"].tolist() for email in e_list.split(\",\")]\n",
    "main_auth = [email.lower() for e_list in df2[\"main_email\"].tolist() for email in e_list.split(\",\")]\n",
    "sent_main = sent + main_auth\n",
    "new_co_auth = set([e for e in co_auth if e not in sent_main and not e==\"\"])\n",
    "df_new_co_auth = pd.DataFrame(list(new_co_auth), columns=[\"email\"])\n",
    "print(len(df_new_co_auth))\n",
    "df_new_co_auth"
   ]
  },
  {
   "cell_type": "code",
   "execution_count": null,
   "metadata": {
    "collapsed": true
   },
   "outputs": [],
   "source": []
  }
 ],
 "metadata": {
  "hide_input": false,
  "kernelspec": {
   "display_name": "Python 3",
   "language": "python",
   "name": "python3"
  },
  "language_info": {
   "codemirror_mode": {
    "name": "ipython",
    "version": 3
   },
   "file_extension": ".py",
   "mimetype": "text/x-python",
   "name": "python",
   "nbconvert_exporter": "python",
   "pygments_lexer": "ipython3",
   "version": "3.6.3"
  }
 },
 "nbformat": 4,
 "nbformat_minor": 2
}
